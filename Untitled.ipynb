{
 "cells": [
  {
   "cell_type": "code",
   "execution_count": 4,
   "id": "37db4a0e",
   "metadata": {
    "collapsed": true
   },
   "outputs": [
    {
     "name": "stdout",
     "output_type": "stream",
     "text": [
      "Collecting opencv-python\n",
      "  Obtaining dependency information for opencv-python from https://files.pythonhosted.org/packages/66/82/564168a349148298aca281e342551404ef5521f33fba17b388ead0a84dc5/opencv_python-4.10.0.84-cp37-abi3-macosx_11_0_arm64.whl.metadata\n",
      "  Downloading opencv_python-4.10.0.84-cp37-abi3-macosx_11_0_arm64.whl.metadata (20 kB)\n",
      "Requirement already satisfied: numpy>=1.21.2 in /Users/navisha/anaconda3/lib/python3.11/site-packages (from opencv-python) (1.24.3)\n",
      "Downloading opencv_python-4.10.0.84-cp37-abi3-macosx_11_0_arm64.whl (54.8 MB)\n",
      "\u001b[2K   \u001b[90m━━━━━━━━━━━━━━━━━━━━━━━━━━━━━━━━━━━━━━━━\u001b[0m \u001b[32m54.8/54.8 MB\u001b[0m \u001b[31m38.9 MB/s\u001b[0m eta \u001b[36m0:00:00\u001b[0m00:01\u001b[0m00:01\u001b[0m\n",
      "\u001b[?25hInstalling collected packages: opencv-python\n",
      "Successfully installed opencv-python-4.10.0.84\n",
      "Note: you may need to restart the kernel to use updated packages.\n"
     ]
    }
   ],
   "source": [
    "pip install opencv-python\n",
    "pip install spacy\n",
    "pip install pytesseract\n",
    "!python -m spacy download en_core_web_sm"
   ]
  },
  {
   "cell_type": "code",
   "execution_count": 23,
   "id": "2c2118bc",
   "metadata": {},
   "outputs": [],
   "source": [
    "import pandas as pd\n",
    "import numpy as np\n",
    "import pytesseract\n",
    "import spacy\n",
    "import cv2\n",
    "import os\n",
    "\n",
    "from PIL import Image"
   ]
  },
  {
   "cell_type": "code",
   "execution_count": 2,
   "id": "91296ae3",
   "metadata": {},
   "outputs": [],
   "source": [
    "pytesseract.pytesseract.tesseract_cmd = '/opt/homebrew/bin/tesseract' "
   ]
  },
  {
   "cell_type": "code",
   "execution_count": 3,
   "id": "40787598",
   "metadata": {},
   "outputs": [],
   "source": [
    "!export PATH=$PATH:/opt/homebrew/bin/tesseract"
   ]
  },
  {
   "cell_type": "markdown",
   "id": "13492b9a",
   "metadata": {},
   "source": [
    "## Exploring Datasets"
   ]
  },
  {
   "cell_type": "code",
   "execution_count": 4,
   "id": "ed5959d4",
   "metadata": {},
   "outputs": [],
   "source": [
    "sample_df = pd.read_csv('Sample.csv')\n",
    "ground_truth_df = pd.read_csv('ground-truth.csv')"
   ]
  },
  {
   "cell_type": "code",
   "execution_count": 5,
   "id": "476d26c1",
   "metadata": {},
   "outputs": [
    {
     "data": {
      "text/html": [
       "<div>\n",
       "<style scoped>\n",
       "    .dataframe tbody tr th:only-of-type {\n",
       "        vertical-align: middle;\n",
       "    }\n",
       "\n",
       "    .dataframe tbody tr th {\n",
       "        vertical-align: top;\n",
       "    }\n",
       "\n",
       "    .dataframe thead th {\n",
       "        text-align: right;\n",
       "    }\n",
       "</style>\n",
       "<table border=\"1\" class=\"dataframe\">\n",
       "  <thead>\n",
       "    <tr style=\"text-align: right;\">\n",
       "      <th></th>\n",
       "      <th>creative_data_id</th>\n",
       "      <th>creative_data_title</th>\n",
       "      <th>creative_data_description</th>\n",
       "      <th>creative_data_duration</th>\n",
       "      <th>creative_data_lifetime_spend_estimated</th>\n",
       "      <th>creative_data_lifetime_airings_count</th>\n",
       "      <th>creative_data_airing_date_first_et</th>\n",
       "      <th>creative_data_airing_date_last_et</th>\n",
       "      <th>speech</th>\n",
       "    </tr>\n",
       "  </thead>\n",
       "  <tbody>\n",
       "    <tr>\n",
       "      <th>0</th>\n",
       "      <td>2194673</td>\n",
       "      <td>30s Kim's Discount - 2194673</td>\n",
       "      <td>Kim is going for the State Farm Drive Safe &amp; S...</td>\n",
       "      <td>30</td>\n",
       "      <td>29789808.73</td>\n",
       "      <td>13949</td>\n",
       "      <td>2019-04-06T22:19:06-04:00</td>\n",
       "      <td>2020-08-04T18:42:50-04:00</td>\n",
       "      <td>So Kim, you going for a big drive safe and sav...</td>\n",
       "    </tr>\n",
       "    <tr>\n",
       "      <th>1</th>\n",
       "      <td>2142915</td>\n",
       "      <td>30s New Flat - 2142915</td>\n",
       "      <td>Uncomfortable with her shabby apartment and ro...</td>\n",
       "      <td>30</td>\n",
       "      <td>5423001.70</td>\n",
       "      <td>10132</td>\n",
       "      <td>2019-03-04T06:49:02-05:00</td>\n",
       "      <td>2021-08-03T11:12:36-04:00</td>\n",
       "      <td>Check your credit scores for free and learn ho...</td>\n",
       "    </tr>\n",
       "  </tbody>\n",
       "</table>\n",
       "</div>"
      ],
      "text/plain": [
       "   creative_data_id           creative_data_title  \\\n",
       "0           2194673  30s Kim's Discount - 2194673   \n",
       "1           2142915        30s New Flat - 2142915   \n",
       "\n",
       "                           creative_data_description  creative_data_duration  \\\n",
       "0  Kim is going for the State Farm Drive Safe & S...                      30   \n",
       "1  Uncomfortable with her shabby apartment and ro...                      30   \n",
       "\n",
       "   creative_data_lifetime_spend_estimated  \\\n",
       "0                             29789808.73   \n",
       "1                              5423001.70   \n",
       "\n",
       "   creative_data_lifetime_airings_count creative_data_airing_date_first_et  \\\n",
       "0                                 13949          2019-04-06T22:19:06-04:00   \n",
       "1                                 10132          2019-03-04T06:49:02-05:00   \n",
       "\n",
       "  creative_data_airing_date_last_et  \\\n",
       "0         2020-08-04T18:42:50-04:00   \n",
       "1         2021-08-03T11:12:36-04:00   \n",
       "\n",
       "                                              speech  \n",
       "0  So Kim, you going for a big drive safe and sav...  \n",
       "1  Check your credit scores for free and learn ho...  "
      ]
     },
     "execution_count": 5,
     "metadata": {},
     "output_type": "execute_result"
    }
   ],
   "source": [
    "sample_df.head(2)"
   ]
  },
  {
   "cell_type": "code",
   "execution_count": 6,
   "id": "85c81c20",
   "metadata": {},
   "outputs": [
    {
     "data": {
      "text/html": [
       "<div>\n",
       "<style scoped>\n",
       "    .dataframe tbody tr th:only-of-type {\n",
       "        vertical-align: middle;\n",
       "    }\n",
       "\n",
       "    .dataframe tbody tr th {\n",
       "        vertical-align: top;\n",
       "    }\n",
       "\n",
       "    .dataframe thead th {\n",
       "        text-align: right;\n",
       "    }\n",
       "</style>\n",
       "<table border=\"1\" class=\"dataframe\">\n",
       "  <thead>\n",
       "    <tr style=\"text-align: right;\">\n",
       "      <th></th>\n",
       "      <th>Timestamp</th>\n",
       "      <th>creative_data_id</th>\n",
       "      <th>Is there a call to go online (e.g., shop online, visit the Web)?</th>\n",
       "      <th>Is there online contact information provided (e.g., URL, website)?</th>\n",
       "      <th>Is there a visual or verbal call to purchase (e.g., buy now, order now)?</th>\n",
       "      <th>Does the ad portray a sense of urgency to act (e.g., buy before sales ends, order before ends)?</th>\n",
       "      <th>Is there an incentive to buy (e.g., a discount, a coupon, a sale or \"limited time offer\")?</th>\n",
       "      <th>Is there offline contact information provided (e.g., phone, mail, store location)?</th>\n",
       "      <th>Is there mention of something free?</th>\n",
       "      <th>Does the ad mention at least one specific product or service (e.g., model, type, item)?</th>\n",
       "      <th>...</th>\n",
       "      <th>Was there a famous person in this ad?</th>\n",
       "      <th>If yes to the above, write the name of the famous person, if known.</th>\n",
       "      <th>What happened in this ad? (Answer in 2-3 sentences each)</th>\n",
       "      <th>What was/were the company's goal(s) with this ad? Choose (potentially multiple) from:</th>\n",
       "      <th>How successful was the ad in achieving its goal(s)?</th>\n",
       "      <th>How much did you like the ad? (1. Strongly dislike, 2. Dislike, 3. Neither Like or Dislike, 4. Like, 5. Strongly Like)</th>\n",
       "      <th>What was the slogan presented in the ad, if any?</th>\n",
       "      <th>After addressing the specific survey items, write a general description of the ad. You can use answers to the questions above to formulate your answer. Your description should include:\\nBrand and Product Identification: \\nSpecify the brand and whether a product is being advertised. (1 sentence)\\nVisual Elements: Describe what is seen on the screen, including setting, characters, and any text or graphics. (max 2 sentences)\\nAuditory Elements: Note what is heard, such as dialogue, voice-over, music, or sound effects. (max 2 sentences)\\n</th>\n",
       "      <th>Any additional feedback or things we should be aware of?</th>\n",
       "      <th>Please enter the video identifier one more time (e.g. 123456789.mp4)</th>\n",
       "    </tr>\n",
       "  </thead>\n",
       "  <tbody>\n",
       "    <tr>\n",
       "      <th>0</th>\n",
       "      <td>5/16/2024 8:00:14</td>\n",
       "      <td>1471363</td>\n",
       "      <td>No</td>\n",
       "      <td>Yes</td>\n",
       "      <td>No</td>\n",
       "      <td>No</td>\n",
       "      <td>No</td>\n",
       "      <td>No</td>\n",
       "      <td>No</td>\n",
       "      <td>Yes</td>\n",
       "      <td>...</td>\n",
       "      <td>No</td>\n",
       "      <td>NaN</td>\n",
       "      <td>During this ad we had a man and a woman taking...</td>\n",
       "      <td>Change how consumers feel about the product/br...</td>\n",
       "      <td>3</td>\n",
       "      <td>3</td>\n",
       "      <td>NaN</td>\n",
       "      <td>Product Identification: Mini Countryman SUV\\nM...</td>\n",
       "      <td>I believe the text legibility should be improv...</td>\n",
       "      <td>1471363.mp4</td>\n",
       "    </tr>\n",
       "    <tr>\n",
       "      <th>1</th>\n",
       "      <td>5/23/2024 2:35:55</td>\n",
       "      <td>1471363</td>\n",
       "      <td>No</td>\n",
       "      <td>Yes</td>\n",
       "      <td>No</td>\n",
       "      <td>No</td>\n",
       "      <td>No</td>\n",
       "      <td>No</td>\n",
       "      <td>No</td>\n",
       "      <td>Yes</td>\n",
       "      <td>...</td>\n",
       "      <td>No</td>\n",
       "      <td>NaN</td>\n",
       "      <td>We watch Mini USA new Countryman driver around...</td>\n",
       "      <td>Directly persuade consumers to purchase</td>\n",
       "      <td>2</td>\n",
       "      <td>2</td>\n",
       "      <td>n/a</td>\n",
       "      <td>Mini USA is advertising their new Countryman c...</td>\n",
       "      <td>NaN</td>\n",
       "      <td>1471363.mp4</td>\n",
       "    </tr>\n",
       "  </tbody>\n",
       "</table>\n",
       "<p>2 rows × 36 columns</p>\n",
       "</div>"
      ],
      "text/plain": [
       "           Timestamp  creative_data_id  \\\n",
       "0  5/16/2024 8:00:14           1471363   \n",
       "1  5/23/2024 2:35:55           1471363   \n",
       "\n",
       "  Is there a call to go online (e.g., shop online, visit the Web)?   \\\n",
       "0                                                 No                  \n",
       "1                                                 No                  \n",
       "\n",
       "  Is there online contact information provided (e.g., URL, website)?   \\\n",
       "0                                                Yes                    \n",
       "1                                                Yes                    \n",
       "\n",
       "  Is there a visual or verbal call to purchase (e.g., buy now, order now)?  \\\n",
       "0                                                 No                         \n",
       "1                                                 No                         \n",
       "\n",
       "  Does the ad portray a sense of urgency to act (e.g., buy before sales ends, order before ends)?   \\\n",
       "0                                                 No                                                 \n",
       "1                                                 No                                                 \n",
       "\n",
       "  Is there an incentive to buy (e.g., a discount, a coupon, a sale or \"limited time offer\")?   \\\n",
       "0                                                 No                                            \n",
       "1                                                 No                                            \n",
       "\n",
       "  Is there offline contact information provided (e.g., phone, mail, store location)?  \\\n",
       "0                                                 No                                   \n",
       "1                                                 No                                   \n",
       "\n",
       "  Is there mention of something free?   \\\n",
       "0                                   No   \n",
       "1                                   No   \n",
       "\n",
       "  Does the ad mention at least one specific product or service (e.g., model, type, item)?   \\\n",
       "0                                                Yes                                         \n",
       "1                                                Yes                                         \n",
       "\n",
       "   ... Was there a famous person in this ad?   \\\n",
       "0  ...                                     No   \n",
       "1  ...                                     No   \n",
       "\n",
       "  If yes to the above, write the name of the famous person, if known.  \\\n",
       "0                                                NaN                    \n",
       "1                                                NaN                    \n",
       "\n",
       "  What happened in this ad? (Answer in 2-3 sentences each)  \\\n",
       "0  During this ad we had a man and a woman taking...         \n",
       "1  We watch Mini USA new Countryman driver around...         \n",
       "\n",
       "  What was/were the company's goal(s) with this ad? Choose (potentially multiple) from:  \\\n",
       "0  Change how consumers feel about the product/br...                                      \n",
       "1            Directly persuade consumers to purchase                                      \n",
       "\n",
       "  How successful was the ad in achieving its goal(s)?  \\\n",
       "0                                                  3    \n",
       "1                                                  2    \n",
       "\n",
       "  How much did you like the ad? (1. Strongly dislike, 2. Dislike, 3. Neither Like or Dislike, 4. Like, 5. Strongly Like)  \\\n",
       "0                                                  3                                                                       \n",
       "1                                                  2                                                                       \n",
       "\n",
       "  What was the slogan presented in the ad, if any?  \\\n",
       "0                                              NaN   \n",
       "1                                              n/a   \n",
       "\n",
       "  After addressing the specific survey items, write a general description of the ad. You can use answers to the questions above to formulate your answer. Your description should include:\\nBrand and Product Identification: \\nSpecify the brand and whether a product is being advertised. (1 sentence)\\nVisual Elements: Describe what is seen on the screen, including setting, characters, and any text or graphics. (max 2 sentences)\\nAuditory Elements: Note what is heard, such as dialogue, voice-over, music, or sound effects. (max 2 sentences)\\n  \\\n",
       "0  Product Identification: Mini Countryman SUV\\nM...                                                                                                                                                                                                                                                                                                                                                                                                                                                                                                             \n",
       "1  Mini USA is advertising their new Countryman c...                                                                                                                                                                                                                                                                                                                                                                                                                                                                                                             \n",
       "\n",
       "  Any additional feedback or things we should be aware of?   \\\n",
       "0  I believe the text legibility should be improv...          \n",
       "1                                                NaN          \n",
       "\n",
       "  Please enter the video identifier one more time (e.g. 123456789.mp4)  \n",
       "0                                        1471363.mp4                    \n",
       "1                                        1471363.mp4                    \n",
       "\n",
       "[2 rows x 36 columns]"
      ]
     },
     "execution_count": 6,
     "metadata": {},
     "output_type": "execute_result"
    }
   ],
   "source": [
    "ground_truth_df.head(2)"
   ]
  },
  {
   "cell_type": "markdown",
   "id": "555b54fe",
   "metadata": {},
   "source": [
    "### Extracting Textual Features"
   ]
  },
  {
   "cell_type": "code",
   "execution_count": 7,
   "id": "4697928d",
   "metadata": {},
   "outputs": [
    {
     "data": {
      "text/plain": [
       "Index(['creative_data_id', 'creative_data_title', 'creative_data_description',\n",
       "       'creative_data_duration', 'creative_data_lifetime_spend_estimated',\n",
       "       'creative_data_lifetime_airings_count',\n",
       "       'creative_data_airing_date_first_et',\n",
       "       'creative_data_airing_date_last_et', 'speech'],\n",
       "      dtype='object')"
      ]
     },
     "execution_count": 7,
     "metadata": {},
     "output_type": "execute_result"
    }
   ],
   "source": [
    "sample_df.columns"
   ]
  },
  {
   "cell_type": "code",
   "execution_count": 8,
   "id": "43319a40",
   "metadata": {
    "scrolled": false
   },
   "outputs": [
    {
     "name": "stdout",
     "output_type": "stream",
     "text": [
      "Entities: [('Kim', 'PERSON'), ('the State Farm Drive Safe & Save', 'ORG'), ('State Farm', 'ORG'), ('up to 30 percent', 'PERCENT')]\n",
      "Keywords: ['Kim', 'go', 'State', 'Farm', 'Drive', 'Safe', 'Save', 'Discount', 'app', 'say', 'vigilant', 'refuse', 'speed', 'meeting', 'start', 'need', 'use', 'restroom', 'go', 'labor', 'refuse', 'let', 'anybody', 'mess', 'discount', 'State', 'Farm', 'say', 'discount', 'percent']\n"
     ]
    }
   ],
   "source": [
    "#Extracting Features from Descriptions and Transcriptions\n",
    "nlp = spacy.load(\"en_core_web_sm\")\n",
    "\n",
    "# Example: Process a single description\n",
    "description = sample_df['creative_data_description'].iloc[0]\n",
    "doc = nlp(description)\n",
    "\n",
    "# Extract entities and keywords\n",
    "entities = [(ent.text, ent.label_) for ent in doc.ents]\n",
    "keywords = [token.lemma_ for token in doc if token.is_alpha and not token.is_stop]\n",
    "\n",
    "print(\"Entities:\", entities)\n",
    "print(\"Keywords:\", keywords)"
   ]
  },
  {
   "cell_type": "code",
   "execution_count": 24,
   "id": "2ca3d406",
   "metadata": {},
   "outputs": [
    {
     "name": "stdout",
     "output_type": "stream",
     "text": [
      "Extracted Text from Frames:\n",
      "Frame 1: a 2 | Fr\n",
      "\n",
      "Frame 2: ADD\n",
      "\n",
      "Frame 3: \n",
      "Frame 4: \n",
      "Frame 5: miniusa.com/newcountryman\n",
      "\n",
      "© 2017 MINI USA, « division of BMW of North America, LLC. The MINI name, model names, and logo are registered trademarks.\n",
      "\n",
      "\n"
     ]
    }
   ],
   "source": [
    "#Extracting Features from On-Screen Text - We will use Optical Character Recognition (OCR) to extract text from video frames.\n",
    "\n",
    "# Function to extract text from a video frame\n",
    "def extract_text_from_frame(frame):\n",
    "    pil_image = Image.fromarray(frame)\n",
    "    text = pytesseract.image_to_string(pil_image)\n",
    "    return text\n",
    "\n",
    "# Function to extract key frames from a video\n",
    "def extract_key_frames(video_path, num_frames=5):\n",
    "    video = cv2.VideoCapture(video_path)\n",
    "    total_frames = int(video.get(cv2.CAP_PROP_FRAME_COUNT))\n",
    "    frame_indices = np.linspace(0, total_frames-1, num_frames, dtype=int)\n",
    "    key_frames = []\n",
    "\n",
    "    for frame_idx in frame_indices:\n",
    "        video.set(cv2.CAP_PROP_POS_FRAMES, frame_idx)\n",
    "        ret, frame = video.read()\n",
    "        if ret:\n",
    "            key_frames.append(frame)\n",
    "\n",
    "    video.release()\n",
    "    return key_frames\n",
    "\n",
    "# Extract key frames and text from the example video\n",
    "video_path = 'sample/1471363.mp4'\n",
    "key_frames = extract_key_frames(video_path)\n",
    "frame_texts = [extract_text_from_frame(frame) for frame in key_frames]\n",
    "\n",
    "print(\"Extracted Text from Frames:\")\n",
    "for i, text in enumerate(frame_texts):\n",
    "    print(f\"Frame {i+1}: {text}\")"
   ]
  },
  {
   "cell_type": "markdown",
   "id": "02bd3002",
   "metadata": {},
   "source": [
    "### Exploring the Video Files"
   ]
  },
  {
   "cell_type": "code",
   "execution_count": 25,
   "id": "66aa9e88",
   "metadata": {},
   "outputs": [],
   "source": [
    "# Function to extract video information\n",
    "def get_video_info(video_path):\n",
    "    video = cv2.VideoCapture(video_path)\n",
    "    if not video.isOpened():\n",
    "        return None\n",
    "    info = {\n",
    "        'Frame Width': int(video.get(cv2.CAP_PROP_FRAME_WIDTH)),\n",
    "        'Frame Height': int(video.get(cv2.CAP_PROP_FRAME_HEIGHT)),\n",
    "        'Frame Rate': video.get(cv2.CAP_PROP_FPS),\n",
    "        'Frame Count': int(video.get(cv2.CAP_PROP_FRAME_COUNT)),\n",
    "        'Duration (seconds)': int(video.get(cv2.CAP_PROP_FRAME_COUNT)) / video.get(cv2.CAP_PROP_FPS)\n",
    "    }\n",
    "    video.release()\n",
    "    return info"
   ]
  },
  {
   "cell_type": "code",
   "execution_count": 26,
   "id": "64fee365",
   "metadata": {},
   "outputs": [
    {
     "name": "stdout",
     "output_type": "stream",
     "text": [
      "Information for video 1471363.mp4:\n",
      "{'Frame Width': 1280, 'Frame Height': 720, 'Frame Rate': 29.97002997002997, 'Frame Count': 900, 'Duration (seconds)': 30.03}\n"
     ]
    }
   ],
   "source": [
    "# Example\n",
    "video_path = 'sample/1471363.mp4'\n",
    "video_info = get_video_info(video_path)\n",
    "print(f\"Information for video {os.path.basename(video_path)}:\")\n",
    "print(video_info)"
   ]
  },
  {
   "cell_type": "code",
   "execution_count": null,
   "id": "bff46a01",
   "metadata": {},
   "outputs": [],
   "source": []
  }
 ],
 "metadata": {
  "kernelspec": {
   "display_name": "Python 3 (ipykernel)",
   "language": "python",
   "name": "python3"
  },
  "language_info": {
   "codemirror_mode": {
    "name": "ipython",
    "version": 3
   },
   "file_extension": ".py",
   "mimetype": "text/x-python",
   "name": "python",
   "nbconvert_exporter": "python",
   "pygments_lexer": "ipython3",
   "version": "3.11.5"
  }
 },
 "nbformat": 4,
 "nbformat_minor": 5
}
